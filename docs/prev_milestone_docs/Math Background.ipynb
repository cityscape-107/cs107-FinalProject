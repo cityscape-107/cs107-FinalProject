{
 "cells": [
  {
   "cell_type": "markdown",
   "metadata": {},
   "source": [
    "$ \\text {The basics:}$"
   ]
  },
  {
   "cell_type": "markdown",
   "metadata": {},
   "source": [
    "$ \\text {- The Chain Rule}$"
   ]
  },
  {
   "cell_type": "markdown",
   "metadata": {},
   "source": [
    "$\n",
    "\\text { If we have } f(x) \\text { then the derivative of } f \\text { with respect to } x \\text { is: }\n",
    "$\n",
    "\n",
    "$$\n",
    "\\frac{\\partial f}{\\partial x}=\\frac{\\partial f}{\\partial u} \\cdot \\frac{\\partial u}{\\partial x}\n",
    "$$"
   ]
  },
  {
   "cell_type": "markdown",
   "metadata": {},
   "source": [
    "$\n",
    "\\text { If we have } f(u,v) \\text {, where u and v are both functions of } x \\text { then the derivative of } f \\\\ \\text { with respect to } x \\text { is: }\n",
    "$\n",
    "\n",
    "$$\n",
    "\\frac{\\partial f}{\\partial x}=\\frac{\\partial f}{\\partial u} \\cdot \\frac{\\partial u}{\\partial x}+\\frac{\\partial f}{\\partial v} \\cdot \\frac{\\partial v}{\\partial x}\n",
    "$$"
   ]
  },
  {
   "cell_type": "markdown",
   "metadata": {},
   "source": [
    "$ \\text {- Jacobian and Gradient}$"
   ]
  },
  {
   "cell_type": "markdown",
   "metadata": {},
   "source": [
    "$\n",
    "\\text { If we have } x \\in \\mathbb{R}^{m} \\text { and function } f(u(x), v(x)) \\text { , } \\text {the gradient of f is:}\n",
    "$\n",
    "\n",
    "$$\n",
    "\\nabla_{x} f=\\frac{\\partial f}{\\partial u} \\nabla_{x} u+\\frac{\\partial f}{\\partial v} \\nabla_{x} v\n",
    "$$"
   ]
  },
  {
   "cell_type": "markdown",
   "metadata": {},
   "source": [
    "$\n",
    "\\text { If we have } h(x): \\mathbb{R}^{m} \\rightarrow \\mathbb{R}^{n} \\text{ ,then, the Jacobian matrix is:}\n",
    "$\n"
   ]
  },
  {
   "cell_type": "markdown",
   "metadata": {},
   "source": [
    "$$\n",
    "J=\\left[\\begin{array}{cccc}\n",
    "\\frac{\\partial h_{1}}{\\partial x_{1}} & \\frac{\\partial h_{1}}{\\partial x_{2}} & \\cdots & \\frac{\\partial h_{1}}{\\partial x_{m}} \\\\\n",
    "\\frac{\\partial h_{2}}{\\partial x_{1}} & \\frac{\\partial h_{2}}{\\partial x_{2}} & \\cdots & \\frac{\\partial h_{2}}{\\partial x_{m}} \\\\\n",
    "\\vdots & \\vdots & \\ddots & \\vdots \\\\\n",
    "\\frac{\\partial h_{n}}{\\partial x_{1}} & \\frac{\\partial h_{n}}{\\partial x_{2}} & \\cdots & \\frac{\\partial h_{n}}{\\partial x_{m}}\n",
    "\\end{array}\\right]\n",
    "$$"
   ]
  },
  {
   "cell_type": "markdown",
   "metadata": {},
   "source": [
    "$ \\text {add an evaluation trace visualisation}$"
   ]
  }
 ],
 "metadata": {
  "kernelspec": {
   "display_name": "Python 3",
   "language": "python",
   "name": "python3"
  },
  "language_info": {
   "codemirror_mode": {
    "name": "ipython",
    "version": 3
   },
   "file_extension": ".py",
   "mimetype": "text/x-python",
   "name": "python",
   "nbconvert_exporter": "python",
   "pygments_lexer": "ipython3",
   "version": "3.8.3"
  }
 },
 "nbformat": 4,
 "nbformat_minor": 4
}
